{
 "cells": [
  {
   "cell_type": "markdown",
   "metadata": {},
   "source": [
    "# From start to finish\n",
    "Generate a movie of the projections and reconstructions from a selected sample"
   ]
  },
  {
   "cell_type": "code",
   "execution_count": null,
   "metadata": {},
   "outputs": [],
   "source": [
    "import matplotlib.pylab as plt\n",
    "from matplotlib_scalebar.scalebar import ScaleBar\n",
    "import seaborn\n",
    "import glob\n",
    "import os\n",
    "import dask\n",
    "import dask_image.imread\n",
    "import math\n",
    "import skimage\n",
    "import numpy\n",
    "# import skimage.transform\n",
    "# from tqdm import tqdm_notebook\n",
    "# import time\n",
    "from IPython import display"
   ]
  },
  {
   "cell_type": "code",
   "execution_count": null,
   "metadata": {},
   "outputs": [],
   "source": [
    "# Load our own log file parsing code\n",
    "from BrukerSkyScanLogfileRuminator.parsing_functions import *"
   ]
  },
  {
   "cell_type": "code",
   "execution_count": null,
   "metadata": {},
   "outputs": [],
   "source": [
    "# Display and output defaults\n",
    "plt.rc('image', cmap='gray', interpolation='nearest')  # Display all images in b&w and with 'nearest' interpolation"
   ]
  },
  {
   "cell_type": "code",
   "execution_count": null,
   "metadata": {},
   "outputs": [],
   "source": [
    "# Setup scale bar\n",
    "plt.rcParams['scalebar.location'] = 'lower right'\n",
    "plt.rcParams['scalebar.frameon'] = False\n",
    "plt.rcParams['scalebar.color'] = '#E6002E'  # unibe red as default scalebar color"
   ]
  },
  {
   "cell_type": "code",
   "execution_count": null,
   "metadata": {},
   "outputs": [],
   "source": [
    "seaborn.set_context('talk')"
   ]
  },
  {
   "cell_type": "markdown",
   "metadata": {},
   "source": [
    "The original scans are in the archive at `DKF Lung-Metastasis\\Overview\\\n",
    "Get the files to the FastSSD with \n",
    "````\n",
    "rsync --verbose --recursive --compress --times --update --omit-dir-times --prune-empty-dirs --include=\"*/\" --include=\"*.?og\" --include=\"*.c?v\" --include=\"*.?if\" --include=\"*.png\" --exclude=\"*\" ~/research-storage-uct/Archiv_Tape/DKF\\ Lung-Metastasis/Overview/KP-TNIKWT02/ /media/habi/Fast_SSD/DKF\\ Lung-Metastasis/Overview/KP-TNIKWT02/\n",
    "````\n",
    "If the PNGs in the `rec` folder are no longer there, you'll need to reconstruct them again :)"
   ]
  },
  {
   "cell_type": "code",
   "execution_count": null,
   "metadata": {},
   "outputs": [],
   "source": [
    "fastSSD = True\n",
    "if fastSSD:\n",
    "    Root = '/media/habi/Fast_SSD/'\n",
    "else:\n",
    "    Root = '/home/habi/1272/'\n",
    "BaseFolder = os.path.join(Root, 'DKF Lung-Metastasis', 'Overview')\n",
    "Sample = 'KP-TNIKWT02'"
   ]
  },
  {
   "cell_type": "code",
   "execution_count": null,
   "metadata": {},
   "outputs": [],
   "source": [
    "print(BaseFolder)"
   ]
  },
  {
   "cell_type": "code",
   "execution_count": null,
   "metadata": {},
   "outputs": [],
   "source": [
    "os.path.join(BaseFolder, Sample, 'proj', '*.log')"
   ]
  },
  {
   "cell_type": "code",
   "execution_count": null,
   "metadata": {},
   "outputs": [],
   "source": [
    "os.path.join(BaseFolder, Sample, 'proj', Sample + '0*.tif')"
   ]
  },
  {
   "cell_type": "code",
   "execution_count": null,
   "metadata": {},
   "outputs": [],
   "source": [
    "# Get file names\n",
    "Logfile = sorted(glob.glob(os.path.join(BaseFolder, Sample, 'proj', '*.log')))[0]\n",
    "Projections = dask_image.imread.imread(os.path.join(BaseFolder, Sample, 'proj', '*[0.123456789].tif'))  # Exclude `KP-TNIKWT2_arc.tif`\n",
    "Reconstructions = dask_image.imread.imread(os.path.join(BaseFolder, Sample, 'rec', '*.png'))"
   ]
  },
  {
   "cell_type": "code",
   "execution_count": null,
   "metadata": {},
   "outputs": [],
   "source": [
    "# Dicard some of the lower reconstructions, which only contain the sample holder and light up if we present them with equalized histogram\n",
    "Reconstructions = Reconstructions[215:]"
   ]
  },
  {
   "cell_type": "code",
   "execution_count": null,
   "metadata": {},
   "outputs": [],
   "source": [
    "Projections"
   ]
  },
  {
   "cell_type": "code",
   "execution_count": null,
   "metadata": {},
   "outputs": [],
   "source": [
    "Reconstructions"
   ]
  },
  {
   "cell_type": "code",
   "execution_count": null,
   "metadata": {},
   "outputs": [],
   "source": [
    "if not Logfile:\n",
    "    print('Please mount the fast SSD...')"
   ]
  },
  {
   "cell_type": "code",
   "execution_count": null,
   "metadata": {},
   "outputs": [],
   "source": [
    "Pixelsize = pixelsize(Logfile)\n",
    "print('We scanned the sample with a voxel size of %0.2f um' % Pixelsize)"
   ]
  },
  {
   "cell_type": "code",
   "execution_count": null,
   "metadata": {},
   "outputs": [],
   "source": [
    "# Details of the output movie\n",
    "Seconds = 15\n",
    "NumberOfFrames = 24 * Seconds # show animation for $Seconds seconds with a frame rate of 24 fps\n",
    "WidthOfOutput = 800"
   ]
  },
  {
   "cell_type": "code",
   "execution_count": null,
   "metadata": {},
   "outputs": [],
   "source": [
    "print('We have %s projections' % (len(Projections)))\n",
    "print('and %s reconstructions' % (len(Reconstructions)))"
   ]
  },
  {
   "cell_type": "code",
   "execution_count": null,
   "metadata": {},
   "outputs": [],
   "source": [
    "# Select exactly this many evenly spaced elements from array\n",
    "# https://stackoverflow.com/a/50685454/323100\n",
    "# idx = numpy.round(numpy.linspace(0, len(Projections) - 1, NumberOfFrames)).astype(int)"
   ]
  },
  {
   "cell_type": "code",
   "execution_count": null,
   "metadata": {},
   "outputs": [],
   "source": [
    "print('Of these projections and reconstructions I will work with approximately %s equally spaced images' % NumberOfFrames)"
   ]
  },
  {
   "cell_type": "code",
   "execution_count": null,
   "metadata": {},
   "outputs": [],
   "source": [
    "# Show middle images\n",
    "plt.subplot(121)\n",
    "plt.imshow(Projections[Projections.shape[0] // 2])\n",
    "plt.gca().add_artist(ScaleBar(Pixelsize, 'um'))\n",
    "plt.title('Middle Projection')\n",
    "plt.axis('off')\n",
    "plt.subplot(122)\n",
    "plt.imshow(Reconstructions[Reconstructions.shape[0] // 2])\n",
    "plt.gca().add_artist(ScaleBar(Pixelsize, 'um'))\n",
    "plt.title('Middle Reconstruction')\n",
    "plt.axis('off')\n",
    "plt.show()"
   ]
  },
  {
   "cell_type": "code",
   "execution_count": null,
   "metadata": {},
   "outputs": [],
   "source": [
    "# Make output directories\n",
    "os.makedirs(os.path.join(BaseFolder, Sample, 'mov', 'mov_proj'), exist_ok=True)\n",
    "os.makedirs(os.path.join(BaseFolder, Sample, 'mov', 'mov_rec'), exist_ok=True)"
   ]
  },
  {
   "cell_type": "markdown",
   "metadata": {},
   "source": [
    "Write out single frames *with* a scale bar of fixed length (5 mm for example)."
   ]
  },
  {
   "cell_type": "code",
   "execution_count": null,
   "metadata": {},
   "outputs": [],
   "source": [
    "# Delete files from previous runs\n",
    "# Based on https://stackoverflow.com/a/37994379/323100\n",
    "for file in os.scandir(os.path.join(BaseFolder,\n",
    "                                    Sample,\n",
    "                                    'mov',\n",
    "                                    'mov_proj')):\n",
    "    os.remove(file.path)\n",
    "for file in os.scandir(os.path.join(BaseFolder,\n",
    "                                    Sample,\n",
    "                                    'mov',\n",
    "                                    'mov_rec')):\n",
    "    os.remove(file.path)"
   ]
  },
  {
   "cell_type": "code",
   "execution_count": null,
   "metadata": {},
   "outputs": [],
   "source": [
    "# Let's write the output image with the chosen width (and scaled height)\n",
    "# Scale the output figure size exactly: https://stackoverflow.com/a/13714720/323100\n",
    "# Write canvas containts to image: https://stackoverflow.com/a/14913405/323100\n",
    "for c, projection in enumerate(Projections[numpy.round(numpy.linspace(0, len(Projections) - 1, NumberOfFrames)).astype(int)]):\n",
    "    # Generate a figure with the chosen width and accordingly scaled height\n",
    "    fig = plt.figure(figsize=(WidthOfOutput / plt.rcParams['figure.dpi'],\n",
    "                              round(WidthOfOutput * (projection.shape[0] / projection.shape[1])) / plt.rcParams['figure.dpi']),\n",
    "                     dpi=plt.rcParams['figure.dpi'])\n",
    "    ax = plt.Axes(fig, [0., 0., 1., 1.])\n",
    "    ax.set_axis_off()\n",
    "    fig.add_axes(ax)\n",
    "    # Equalize histogram for display reasons\n",
    "    ax.imshow(skimage.exposure.equalize_adapthist(projection))\n",
    "    ax.add_artist(ScaleBar(Pixelsize, 'um', fixed_value=5, fixed_units='mm'))\n",
    "    s = '_'\n",
    "    fig.canvas.print_jpg(os.path.join(BaseFolder, Sample, 'mov', 'mov_proj',\n",
    "                                      s.join([Sample,\n",
    "                                              str(NumberOfFrames),\n",
    "                                              'projections',\n",
    "                                              'of',\n",
    "                                              str(len(Projections)),\n",
    "                                              str(WidthOfOutput),\n",
    "                                              'px',\n",
    "                                              '%03d.jpg' % c])))\n",
    "    display.display(plt.gcf())\n",
    "    display.clear_output(wait=True)\n",
    "    plt.show()\n",
    "print('Done')\n",
    "\n"
   ]
  },
  {
   "cell_type": "code",
   "execution_count": null,
   "metadata": {},
   "outputs": [],
   "source": [
    "# Let's write the output image with the chosen width (and scaled height)\n",
    "# Scale the output figure size exactly: https://stackoverflow.com/a/13714720/323100\n",
    "# Write canvas containts to image: https://stackoverflow.com/a/14913405/323100\n",
    "for c, reconstruction in enumerate(Reconstructions[numpy.round(numpy.linspace(0, len(Reconstructions) - 1, NumberOfFrames)).astype(int)]):\n",
    "    # Generate a figure with the chosen width and accordingly scaled height\n",
    "    fig = plt.figure(figsize=(WidthOfOutput / plt.rcParams['figure.dpi'],\n",
    "                              round(WidthOfOutput * (reconstruction.shape[0] / reconstruction.shape[1])) / plt.rcParams['figure.dpi']),\n",
    "                     dpi=plt.rcParams['figure.dpi'])\n",
    "    ax = plt.Axes(fig, [0., 0., 1., 1.])\n",
    "    ax.set_axis_off()\n",
    "    fig.add_axes(ax)\n",
    "    # Equalize histogram for display reasons\n",
    "    # Rotate reconstruction for display reasons\n",
    "    ax.imshow(skimage.exposure.equalize_adapthist(dask.array.rot90(reconstruction)))\n",
    "    ax.add_artist(ScaleBar(Pixelsize, 'um', fixed_value=5, fixed_units='mm'))\n",
    "    s = '_'\n",
    "    fig.canvas.print_jpg(os.path.join(BaseFolder, Sample, 'mov', 'mov_rec',\n",
    "                                      s.join([Sample,\n",
    "                                              str(NumberOfFrames),\n",
    "                                              'reconstructions',\n",
    "                                              'of',\n",
    "                                              str(len(Reconstructions)),\n",
    "                                              str(WidthOfOutput),\n",
    "                                              'px',\n",
    "                                              '%03d.jpg' % c])))\n",
    "    display.display(plt.gcf())\n",
    "    display.clear_output(wait=True)\n",
    "    plt.show()\n",
    "print('Done')"
   ]
  },
  {
   "cell_type": "code",
   "execution_count": null,
   "metadata": {},
   "outputs": [],
   "source": [
    "print('Now you can copy the files from %s to \"TalkFolder/movies/scan/projection\"' % os.path.join(BaseFolder, Sample, 'mov', 'mov_proj'))"
   ]
  },
  {
   "cell_type": "code",
   "execution_count": null,
   "metadata": {},
   "outputs": [],
   "source": [
    "print('Now you can copy the files from %s to \"TalkFolder/movies/scan/reconstruction\"' % os.path.join(BaseFolder, Sample, 'mov', 'mov_rec'))"
   ]
  },
  {
   "cell_type": "code",
   "execution_count": null,
   "metadata": {},
   "outputs": [],
   "source": [
    "Projections.shape[1]//2"
   ]
  },
  {
   "cell_type": "code",
   "execution_count": null,
   "metadata": {},
   "outputs": [],
   "source": [
    "height = Projections.shape[1]//2\n",
    "# Show Sinogram\n",
    "plt.subplot(121)\n",
    "plt.imshow(Projections[0])\n",
    "plt.axhline(height, c='#E6002E')\n",
    "plt.gca().add_artist(ScaleBar(Pixelsize, 'um'))\n",
    "plt.axis('off')\n",
    "plt.subplot(122)\n",
    "plt.imshow(Projections[:,height,:], cmap='gray_r')\n",
    "plt.axis('off')"
   ]
  },
  {
   "cell_type": "code",
   "execution_count": null,
   "metadata": {},
   "outputs": [],
   "source": [
    "from skimage.transform import radon, rescale"
   ]
  },
  {
   "cell_type": "code",
   "execution_count": null,
   "metadata": {},
   "outputs": [],
   "source": [
    "skimage.transform.iradon(Projections[:,height,:], filter_name='ramp')"
   ]
  },
  {
   "cell_type": "code",
   "execution_count": null,
   "metadata": {},
   "outputs": [],
   "source": [
    "skimage.transform.radon_transform?"
   ]
  },
  {
   "cell_type": "code",
   "execution_count": null,
   "metadata": {},
   "outputs": [],
   "source": []
  }
 ],
 "metadata": {
  "kernelspec": {
   "display_name": "Python 3 (ipykernel)",
   "language": "python",
   "name": "python3"
  },
  "language_info": {
   "codemirror_mode": {
    "name": "ipython",
    "version": 3
   },
   "file_extension": ".py",
   "mimetype": "text/x-python",
   "name": "python",
   "nbconvert_exporter": "python",
   "pygments_lexer": "ipython3",
   "version": "3.11.5"
  }
 },
 "nbformat": 4,
 "nbformat_minor": 4
}
